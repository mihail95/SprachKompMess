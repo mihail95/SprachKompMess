{
 "cells": [
  {
   "cell_type": "markdown",
   "id": "1d9ac9c7",
   "metadata": {},
   "source": [
    "# EIT Konstuktion \n",
    "## Nützliche Libraries"
   ]
  },
  {
   "cell_type": "markdown",
   "id": "d0160ffd",
   "metadata": {},
   "source": [
    "Silbentrennung mit [Pyphen](https://pyphen.org)"
   ]
  },
  {
   "cell_type": "code",
   "execution_count": null,
   "id": "acadb6ba",
   "metadata": {},
   "outputs": [],
   "source": [
    "#!pip install pyphen"
   ]
  },
  {
   "cell_type": "code",
   "execution_count": 1,
   "id": "0f03c0c8",
   "metadata": {},
   "outputs": [
    {
     "name": "stdout",
     "output_type": "stream",
     "text": [
      "Bei-spiels-wei-se\n",
      "emp-fiehlt\n",
      "es\n",
      "sich\n",
      ",\n",
      "Ohr-stöp-sel\n",
      "da-bei\n",
      "zu\n",
      "ha-ben\n",
      ",\n",
      "wenn\n",
      "Sie\n",
      "in\n",
      "ein\n",
      "Kon-zert\n",
      "oder\n",
      "in\n",
      "ein\n",
      "Ki-no\n",
      "mit\n",
      "lau-ter\n",
      "Film-mu-sik\n",
      "ge-hen\n",
      ".\n"
     ]
    }
   ],
   "source": [
    "import pyphen\n",
    "\n",
    "#Beispielsatz aus deu-com_web_2021: 879\n",
    "sentence_tokenized = \"Beispielsweise empfiehlt es sich , Ohrstöpsel dabei zu haben , wenn Sie in ein Konzert oder in ein Kino mit lauter Filmmusik gehen .\"\n",
    "\n",
    "\n",
    "dic = pyphen.Pyphen(lang='de_De')\n",
    "\n",
    "#Bindestriche an Silbengrenzen einfügen\n",
    "for word in sentence_tokenized.split():\n",
    "    print(dic.inserted(word))"
   ]
  },
  {
   "cell_type": "code",
   "execution_count": 2,
   "id": "9c1320b6",
   "metadata": {},
   "outputs": [
    {
     "name": "stdout",
     "output_type": "stream",
     "text": [
      "Beispielsweise [3, 9, 12]\n",
      "empfiehlt [3]\n",
      "es []\n",
      "sich []\n",
      ", []\n",
      "Ohrstöpsel [3, 7]\n",
      "dabei [2]\n",
      "zu []\n",
      "haben [2]\n",
      ", []\n",
      "wenn []\n",
      "Sie []\n",
      "in []\n",
      "ein []\n",
      "Konzert [3]\n",
      "oder []\n",
      "in []\n",
      "ein []\n",
      "Kino [2]\n",
      "mit []\n",
      "lauter [3]\n",
      "Filmmusik [4, 6]\n",
      "gehen [2]\n",
      ". []\n"
     ]
    }
   ],
   "source": [
    "#Positionen der Silbengrenzen ausgeben\n",
    "for word in sentence_tokenized.split():\n",
    "    print(word, dic.positions(word))"
   ]
  },
  {
   "cell_type": "markdown",
   "id": "b6fe0f69",
   "metadata": {},
   "source": [
    "Vorverarbeitung mit [spaCy](https://spacy.io), inkl. Silbentrennung (basiert auf pyphen)"
   ]
  },
  {
   "cell_type": "code",
   "execution_count": null,
   "id": "e04593b9",
   "metadata": {},
   "outputs": [],
   "source": [
    "#!pip install spacy\n",
    "#!python3 -m spacy download de_core_news_sm\n",
    "\n",
    "#https://pypi.org/project/spacy-syllables/ --> uses Pyphen\n",
    "#!pip install spacy_syllables"
   ]
  },
  {
   "cell_type": "code",
   "execution_count": 11,
   "id": "2ccdd1c2",
   "metadata": {},
   "outputs": [
    {
     "name": "stdout",
     "output_type": "stream",
     "text": [
      "Beispielsweise beispielsweise ADV ['bei', 'spiels', 'wei', 'se'] 4\n",
      "empfiehlt empfehlen VERB ['emp', 'fiehlt'] 2\n",
      "Dr. Dr. NOUN None None\n",
      "House House PROPN ['hou', 'se'] 2\n",
      ", -- PUNCT None None\n",
      "Ohrstöpsel Ohrstöpsel NOUN ['ohr', 'stöp', 'sel'] 3\n",
      "dabei dabei ADV ['da', 'bei'] 2\n",
      "zu zu PART ['zu'] 1\n",
      "haben haben VERB ['ha', 'ben'] 2\n",
      ", -- PUNCT None None\n",
      "wenn wenn SCONJ ['wenn'] 1\n",
      "Sie sie PRON ['sie'] 1\n",
      "in in ADP ['in'] 1\n",
      "ein ein DET ['ein'] 1\n",
      "Konzert Konzert NOUN ['kon', 'zert'] 2\n",
      "oder oder CCONJ ['oder'] 1\n",
      "in in ADP ['in'] 1\n",
      "ein ein DET ['ein'] 1\n",
      "Kino Kino NOUN ['ki', 'no'] 2\n",
      "mit mit ADP ['mit'] 1\n",
      "lauter laut ADJ ['lau', 'ter'] 2\n",
      "Filmmusik Filmmusik NOUN ['film', 'mu', 'sik'] 3\n",
      "gehen gehen VERB ['ge', 'hen'] 2\n",
      ". -- PUNCT None None\n"
     ]
    }
   ],
   "source": [
    "import spacy\n",
    "from spacy_syllables import SpacySyllables\n",
    "\n",
    "sentence = \"Beispielsweise empfiehlt Dr. House, Ohrstöpsel dabei zu haben, wenn Sie in ein Konzert oder in ein Kino mit lauter Filmmusik gehen.\"\n",
    "\n",
    "#Modell laden\n",
    "nlp = spacy.load(\"de_core_news_sm\")\n",
    "# ['tok2vec', 'tagger', 'parser', 'attribute_ruler', 'lemmatizer', 'ner']\n",
    "# nlp.select_pipes(enable=['tok2vec', 'tagger', 'parser', 'attribute_ruler', 'lemmatizer', 'ner'])\n",
    "\n",
    "#Komponente für die Silbentrennung zur Pipeline hinzufügen\n",
    "nlp.add_pipe(\"syllables\", after=\"tagger\", config={\"lang\": \"de_DE\"})\n",
    "\n",
    "#NLP-Pipeline ausführen\n",
    "doc = nlp(sentence)\n",
    "\n",
    "#Analysen ausgeben lassen\n",
    "for token in doc:\n",
    "    print(token.text, token.lemma_, token.pos_, token._.syllables, token._.syllables_count)"
   ]
  },
  {
   "cell_type": "code",
   "execution_count": null,
   "id": "22835023",
   "metadata": {},
   "outputs": [],
   "source": []
  }
 ],
 "metadata": {
  "kernelspec": {
   "display_name": "Python 3 (ipykernel)",
   "language": "python",
   "name": "python3"
  },
  "language_info": {
   "codemirror_mode": {
    "name": "ipython",
    "version": 3
   },
   "file_extension": ".py",
   "mimetype": "text/x-python",
   "name": "python",
   "nbconvert_exporter": "python",
   "pygments_lexer": "ipython3",
   "version": "3.10.5"
  }
 },
 "nbformat": 4,
 "nbformat_minor": 5
}
